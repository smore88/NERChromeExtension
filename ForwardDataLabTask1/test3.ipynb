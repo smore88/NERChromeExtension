{
 "cells": [
  {
   "cell_type": "code",
   "execution_count": null,
   "metadata": {},
   "outputs": [],
   "source": [
    "#1. use standard spacy and show working NER video\n",
    "#2. modify #1 to train spacy to support a new entity called fruit and see results\n",
    "#3. create standard spacy with CFR and see NER working, create #1 just with CFR model\n",
    "#4. modify #3 train spacy with CFR to support a new entity called fruit\n",
    "#5. the paper says NER with CFR is better than with non CFR so here you will see that #4 is better than #2\n",
    "\n",
    "#6. [\"text\": \"thththththththth \"]"
   ]
  },
  {
   "cell_type": "code",
   "execution_count": 45,
   "metadata": {},
   "outputs": [],
   "source": [
    "sample_txt = \"Apple is a huge software company that has an average stock price of 200 dollars that was hit this past November. Oh and a fun fact about Apple, CEO Steve Job's favorite food is also Apples\""
   ]
  },
  {
   "cell_type": "code",
   "execution_count": 47,
   "metadata": {},
   "outputs": [
    {
     "data": {
      "text/html": [
       "<span class=\"tex2jax_ignore\"><div class=\"entities\" style=\"line-height: 2.5; direction: ltr\">\n",
       "<mark class=\"entity\" style=\"background: #7aecec; padding: 0.45em 0.6em; margin: 0 0.25em; line-height: 1; border-radius: 0.35em;\">\n",
       "    Apple\n",
       "    <span style=\"font-size: 0.8em; font-weight: bold; line-height: 1; border-radius: 0.35em; vertical-align: middle; margin-left: 0.5rem\">ORG</span>\n",
       "</mark>\n",
       " is a huge software company that has an average stock price of \n",
       "<mark class=\"entity\" style=\"background: #e4e7d2; padding: 0.45em 0.6em; margin: 0 0.25em; line-height: 1; border-radius: 0.35em;\">\n",
       "    200 dollars\n",
       "    <span style=\"font-size: 0.8em; font-weight: bold; line-height: 1; border-radius: 0.35em; vertical-align: middle; margin-left: 0.5rem\">MONEY</span>\n",
       "</mark>\n",
       " that was hit \n",
       "<mark class=\"entity\" style=\"background: #bfe1d9; padding: 0.45em 0.6em; margin: 0 0.25em; line-height: 1; border-radius: 0.35em;\">\n",
       "    this past November\n",
       "    <span style=\"font-size: 0.8em; font-weight: bold; line-height: 1; border-radius: 0.35em; vertical-align: middle; margin-left: 0.5rem\">DATE</span>\n",
       "</mark>\n",
       ". Oh and a fun fact about \n",
       "<mark class=\"entity\" style=\"background: #7aecec; padding: 0.45em 0.6em; margin: 0 0.25em; line-height: 1; border-radius: 0.35em;\">\n",
       "    Apple\n",
       "    <span style=\"font-size: 0.8em; font-weight: bold; line-height: 1; border-radius: 0.35em; vertical-align: middle; margin-left: 0.5rem\">ORG</span>\n",
       "</mark>\n",
       ", CEO \n",
       "<mark class=\"entity\" style=\"background: #aa9cfc; padding: 0.45em 0.6em; margin: 0 0.25em; line-height: 1; border-radius: 0.35em;\">\n",
       "    Steve Job's\n",
       "    <span style=\"font-size: 0.8em; font-weight: bold; line-height: 1; border-radius: 0.35em; vertical-align: middle; margin-left: 0.5rem\">PERSON</span>\n",
       "</mark>\n",
       " favorite food is also \n",
       "<mark class=\"entity\" style=\"background: #c887fb; padding: 0.45em 0.6em; margin: 0 0.25em; line-height: 1; border-radius: 0.35em;\">\n",
       "    Apples\n",
       "    <span style=\"font-size: 0.8em; font-weight: bold; line-height: 1; border-radius: 0.35em; vertical-align: middle; margin-left: 0.5rem\">NORP</span>\n",
       "</mark>\n",
       "</div></span>"
      ],
      "text/plain": [
       "<IPython.core.display.HTML object>"
      ]
     },
     "metadata": {},
     "output_type": "display_data"
    }
   ],
   "source": [
    "# Step 1\n",
    "import spacy\n",
    "from spacy import displacy\n",
    "\n",
    "nlp = spacy.load(\"en_core_web_sm\")\n",
    "doc = nlp(sample_txt)\n",
    "\n",
    "displacy.render(doc, style='ent')\n"
   ]
  },
  {
   "cell_type": "code",
   "execution_count": 133,
   "metadata": {},
   "outputs": [
    {
     "data": {
      "text/html": [
       "<span class=\"tex2jax_ignore\"><div class=\"entities\" style=\"line-height: 2.5; direction: ltr\">Apple is a huge software company that has an average stock price of 200 dollars that was hit this \n",
       "<mark class=\"entity\" style=\"background: green; padding: 0.45em 0.6em; margin: 0 0.25em; line-height: 1; border-radius: 0.35em;\">\n",
       "    past\n",
       "    <span style=\"font-size: 0.8em; font-weight: bold; line-height: 1; border-radius: 0.35em; vertical-align: middle; margin-left: 0.5rem\">fruit</span>\n",
       "</mark>\n",
       " \n",
       "<mark class=\"entity\" style=\"background: green; padding: 0.45em 0.6em; margin: 0 0.25em; line-height: 1; border-radius: 0.35em;\">\n",
       "    November\n",
       "    <span style=\"font-size: 0.8em; font-weight: bold; line-height: 1; border-radius: 0.35em; vertical-align: middle; margin-left: 0.5rem\">fruit</span>\n",
       "</mark>\n",
       ". \n",
       "<mark class=\"entity\" style=\"background: green; padding: 0.45em 0.6em; margin: 0 0.25em; line-height: 1; border-radius: 0.35em;\">\n",
       "    Oh\n",
       "    <span style=\"font-size: 0.8em; font-weight: bold; line-height: 1; border-radius: 0.35em; vertical-align: middle; margin-left: 0.5rem\">fruit</span>\n",
       "</mark>\n",
       " and a fun fact about Apple, CEO \n",
       "<mark class=\"entity\" style=\"background: green; padding: 0.45em 0.6em; margin: 0 0.25em; line-height: 1; border-radius: 0.35em;\">\n",
       "    Steve\n",
       "    <span style=\"font-size: 0.8em; font-weight: bold; line-height: 1; border-radius: 0.35em; vertical-align: middle; margin-left: 0.5rem\">fruit</span>\n",
       "</mark>\n",
       " Job's favorite food is also \n",
       "<mark class=\"entity\" style=\"background: green; padding: 0.45em 0.6em; margin: 0 0.25em; line-height: 1; border-radius: 0.35em;\">\n",
       "    Apples\n",
       "    <span style=\"font-size: 0.8em; font-weight: bold; line-height: 1; border-radius: 0.35em; vertical-align: middle; margin-left: 0.5rem\">fruit</span>\n",
       "</mark>\n",
       "</div></span>"
      ],
      "text/plain": [
       "<IPython.core.display.HTML object>"
      ]
     },
     "metadata": {},
     "output_type": "display_data"
    }
   ],
   "source": [
    "from spacy.training.example import Example\n",
    "import random\n",
    "\n",
    "nlp = spacy.blank(\"en\")\n",
    "ner = nlp.add_pipe(\"ner\")\n",
    "ner.add_label(\"Fruit\")\n",
    "\n",
    "training_data = [\n",
    "    (\"I love apples and bananas.\", {\"entities\": [(7, 13, \"fruit\"), (18, 25, \"fruit\")]}),\n",
    "    (\"Oranges are a great source of vitamin C.\", {\"entities\": [(0, 7, \"fruit\")]}),\n",
    "]\n",
    "\n",
    "collected_training_data = []\n",
    "for text, entity_map_item in training_data:\n",
    "    converted_data = Example.from_dict(nlp.make_doc(text), entity_map_item)\n",
    "    collected_training_data.append(converted_data)\n",
    "\n",
    "nlp.begin_training()\n",
    "for i in range(100):\n",
    "    random.shuffle(collected_training_data)\n",
    "    for data in collected_training_data:\n",
    "        nlp.update([data], drop=0.5)\n",
    "\n",
    "nlp.to_disk(\"custom_ner_model\")\n",
    "\n",
    "# Step 4: Test the Model\n",
    "custom_ner_modl = spacy.load(\"custom_ner_model\")\n",
    "doc = custom_ner_modl(sample_txt)\n",
    "\n",
    "# Specify a solid color for the entity\n",
    "style = {\n",
    "    \"ents\": [\"Fruit\"],\n",
    "    \"colors\": {\"Fruit\": \"green\"},\n",
    "}\n",
    "\n",
    "# Render the visualization with custom colors\n",
    "displacy.render(doc, style='ent', options=style)\n",
    "\n",
    "\n"
   ]
  },
  {
   "cell_type": "code",
   "execution_count": 156,
   "metadata": {},
   "outputs": [
    {
     "name": "stdout",
     "output_type": "stream",
     "text": [
      "<class 'list'>\n"
     ]
    }
   ],
   "source": [
    "import spacy\n",
    "import ast\n",
    "from spacy.training.example import Example\n",
    "\n",
    "# load the training dataset\n",
    "import pandas as pd\n",
    "training_data_file_path = \"/Users/shubham/Desktop/ner.csv\"\n",
    "\n",
    "# read csv into pandas DataFrame\n",
    "df = pd.read_csv(training_data_file_path)\n",
    "# Grab any basic information df.head() or: Summary statistics, Access a specific column, etc...\n",
    "\n",
    "'''\n",
    "One thing to note here: is that this NER dataset that I found is split into the following columns:\n",
    "    - Sentence #, Sentence, POS(Word type description, NOUN, etc..), Tag(O-per with IOB-named entity)\n",
    "But spaCy doesn't understand the data in this format spaCy understands data in the format of a tuple\n",
    "    - (string, dict) where dict = {entities : [tuples of character indices of the start of the token(start, end, + IOB-named entity)]}\n",
    "So in order to train the model with spaCy like the paper suggests we first need to reformat the dataFrame to match\n",
    "into this form which is what convert_to_spacy is doing\n",
    "'''\n",
    "def convert_to_spacy_Part_One(df):\n",
    "    tagged_spacy_data = []\n",
    "    for index, row in df.iterrows():\n",
    "        sentence = row['Sentence']\n",
    "        ner_tags = row['Tag']\n",
    "\n",
    "        # right now here ner_tags is of type string, so in order to get the elements lets convert to a list\n",
    "        ner_tags = ast.literal_eval(ner_tags)\n",
    "\n",
    "        entities = []\n",
    "        start = 0\n",
    "        end = 0\n",
    "        for tagIndex, word in enumerate(sentence.split()):\n",
    "            end = start + len(word)\n",
    "\n",
    "            if tagIndex >= len(ner_tags): # general data validation check\n",
    "                break\n",
    "            if(ner_tags[tagIndex] != 'O'):\n",
    "                entities.append((start, end, ner_tags[tagIndex]))\n",
    "\n",
    "            start = end + 1\n",
    "        \n",
    "        if len(entities) > 0:\n",
    "            tagged_spacy_data.append((sentence, {\"entities\": entities}))\n",
    "\n",
    "    return tagged_spacy_data\n",
    "\n",
    "'''\n",
    "So basically the convert_to_spacy_Part_One gives you an output like this:\n",
    "    ('The German firm works as a sub-contractor for Shell .', {'entities': [(4, 10, 'B-gpe'), (46, 51, 'B-org')]})\n",
    "When we train a spaCy Model we need the form to be like this:\n",
    "    ('The German firm works as a sub-contractor for Shell .', {'entities': [(4, 10, 'GPE'), (46, 51, 'ORG')]})\n",
    "So the function convert_to_spaCy_Part_Two will .upper() the string [2:]\n",
    "'''\n",
    "def convert_to_spacy_Part_Two(spacy_data):\n",
    "    spacy_formatted_data = []\n",
    "\n",
    "    for sentence, entities_dict in spacy_data:\n",
    "\n",
    "        entities_list = entities_dict[\"entities\"]\n",
    "        modified_entities = []\n",
    "\n",
    "        for start, end, type in entities_list:\n",
    "            currType = type\n",
    "            formattedType = currType[2:].upper() # take 'B-Geo' -> 'GEO'\n",
    "            modified_entities.append((start, end, formattedType))\n",
    "        \n",
    "        spacy_formatted_data.append((sentence, {\"entities\" : modified_entities}))\n",
    "\n",
    "    return spacy_formatted_data\n",
    "\n",
    "\n",
    "# Convert the DataFrame to spaCy format but still the tags are in there\n",
    "spacy_training_data = convert_to_spacy_Part_One(df)\n",
    "\n",
    "# remove the tags and now we are officially ready to train our model, spacy_formatted_data is a list of training data\n",
    "spacy_formatted_data = convert_to_spacy_Part_Two(spacy_training_data)\n",
    "\n",
    "\n",
    "# TESTING: random testing statements I used to make sure I get the right entities, types, etc...\n",
    "# print(f\"({start}, {end}, {ner_tags[tagIndex]} | {tagIndex}\")\n",
    "# for i in range(len(spacy_data)):\n",
    "#   print(spacy_data[i])\n",
    "# print(type(spacy_formatted_data))\n",
    "# for i in range(len(spacy_formatted_data)):\n",
    "#         print(spacy_formatted_data[i])\n",
    "# print(spacy_training_data[0])\n",
    "# print(spacy_training_data[0][0][48:54], spacy_training_data[0][0][77:81], spacy_training_data[0][0][111:118])"
   ]
  },
  {
   "cell_type": "code",
   "execution_count": 157,
   "metadata": {},
   "outputs": [
    {
     "ename": "KeyboardInterrupt",
     "evalue": "",
     "output_type": "error",
     "traceback": [
      "\u001b[0;31m---------------------------------------------------------------------------\u001b[0m",
      "\u001b[0;31mKeyboardInterrupt\u001b[0m                         Traceback (most recent call last)",
      "\u001b[1;32m/Users/shubham/ForwardDataLabTask1/test3.ipynb Cell 6\u001b[0m line \u001b[0;36m1\n\u001b[1;32m     <a href='vscode-notebook-cell:/Users/shubham/ForwardDataLabTask1/test3.ipynb#X12sZmlsZQ%3D%3D?line=15'>16</a>\u001b[0m     random\u001b[39m.\u001b[39mshuffle(collected_training_data)\n\u001b[1;32m     <a href='vscode-notebook-cell:/Users/shubham/ForwardDataLabTask1/test3.ipynb#X12sZmlsZQ%3D%3D?line=16'>17</a>\u001b[0m     \u001b[39mfor\u001b[39;00m data \u001b[39min\u001b[39;00m collected_training_data:\n\u001b[0;32m---> <a href='vscode-notebook-cell:/Users/shubham/ForwardDataLabTask1/test3.ipynb#X12sZmlsZQ%3D%3D?line=17'>18</a>\u001b[0m         nlp\u001b[39m.\u001b[39mupdate([data], drop\u001b[39m=\u001b[39m\u001b[39m0.5\u001b[39m)\n\u001b[1;32m     <a href='vscode-notebook-cell:/Users/shubham/ForwardDataLabTask1/test3.ipynb#X12sZmlsZQ%3D%3D?line=19'>20</a>\u001b[0m nlp\u001b[39m.\u001b[39mto_disk(\u001b[39m\"\u001b[39m\u001b[39mcustom_ner_model\u001b[39m\u001b[39m\"\u001b[39m)\n\u001b[1;32m     <a href='vscode-notebook-cell:/Users/shubham/ForwardDataLabTask1/test3.ipynb#X12sZmlsZQ%3D%3D?line=21'>22</a>\u001b[0m \u001b[39m# Step 4: Test the Model\u001b[39;00m\n",
      "File \u001b[0;32m~/anaconda3/lib/python3.11/site-packages/spacy/language.py:1193\u001b[0m, in \u001b[0;36mLanguage.update\u001b[0;34m(self, examples, _, drop, sgd, losses, component_cfg, exclude, annotates)\u001b[0m\n\u001b[1;32m   1190\u001b[0m \u001b[39mfor\u001b[39;00m name, proc \u001b[39min\u001b[39;00m \u001b[39mself\u001b[39m\u001b[39m.\u001b[39mpipeline:\n\u001b[1;32m   1191\u001b[0m     \u001b[39m# ignore statements are used here because mypy ignores hasattr\u001b[39;00m\n\u001b[1;32m   1192\u001b[0m     \u001b[39mif\u001b[39;00m name \u001b[39mnot\u001b[39;00m \u001b[39min\u001b[39;00m exclude \u001b[39mand\u001b[39;00m \u001b[39mhasattr\u001b[39m(proc, \u001b[39m\"\u001b[39m\u001b[39mupdate\u001b[39m\u001b[39m\"\u001b[39m):\n\u001b[0;32m-> 1193\u001b[0m         proc\u001b[39m.\u001b[39mupdate(examples, sgd\u001b[39m=\u001b[39m\u001b[39mNone\u001b[39;00m, losses\u001b[39m=\u001b[39mlosses, \u001b[39m*\u001b[39m\u001b[39m*\u001b[39mcomponent_cfg[name])  \u001b[39m# type: ignore\u001b[39;00m\n\u001b[1;32m   1194\u001b[0m     \u001b[39mif\u001b[39;00m sgd \u001b[39mnot\u001b[39;00m \u001b[39min\u001b[39;00m (\u001b[39mNone\u001b[39;00m, \u001b[39mFalse\u001b[39;00m):\n\u001b[1;32m   1195\u001b[0m         \u001b[39mif\u001b[39;00m (\n\u001b[1;32m   1196\u001b[0m             name \u001b[39mnot\u001b[39;00m \u001b[39min\u001b[39;00m exclude\n\u001b[1;32m   1197\u001b[0m             \u001b[39mand\u001b[39;00m \u001b[39misinstance\u001b[39m(proc, ty\u001b[39m.\u001b[39mTrainableComponent)\n\u001b[1;32m   1198\u001b[0m             \u001b[39mand\u001b[39;00m proc\u001b[39m.\u001b[39mis_trainable\n\u001b[1;32m   1199\u001b[0m             \u001b[39mand\u001b[39;00m proc\u001b[39m.\u001b[39mmodel \u001b[39mnot\u001b[39;00m \u001b[39min\u001b[39;00m (\u001b[39mTrue\u001b[39;00m, \u001b[39mFalse\u001b[39;00m, \u001b[39mNone\u001b[39;00m)\n\u001b[1;32m   1200\u001b[0m         ):\n",
      "File \u001b[0;32m~/anaconda3/lib/python3.11/site-packages/spacy/pipeline/transition_parser.pyx:439\u001b[0m, in \u001b[0;36mspacy.pipeline.transition_parser.Parser.update\u001b[0;34m()\u001b[0m\n",
      "File \u001b[0;32m~/anaconda3/lib/python3.11/site-packages/spacy/ml/parser_model.pyx:328\u001b[0m, in \u001b[0;36mspacy.ml.parser_model.ParserStepModel.finish_steps\u001b[0;34m()\u001b[0m\n",
      "File \u001b[0;32m~/anaconda3/lib/python3.11/site-packages/spacy/ml/parser_model.pyx:500\u001b[0m, in \u001b[0;36mspacy.ml.parser_model.precompute_hiddens.begin_update.backward\u001b[0;34m()\u001b[0m\n",
      "File \u001b[0;32m~/anaconda3/lib/python3.11/site-packages/spacy/ml/_precomputable_affine.py:56\u001b[0m, in \u001b[0;36mforward.<locals>.backward\u001b[0;34m(dY_ids)\u001b[0m\n\u001b[1;32m     54\u001b[0m model\u001b[39m.\u001b[39minc_grad(\u001b[39m\"\u001b[39m\u001b[39mpad\u001b[39m\u001b[39m\"\u001b[39m, _backprop_precomputable_affine_padding(model, dY, ids))\n\u001b[1;32m     55\u001b[0m Xf \u001b[39m=\u001b[39m X[ids]\n\u001b[0;32m---> 56\u001b[0m Xf \u001b[39m=\u001b[39m Xf\u001b[39m.\u001b[39mreshape((Xf\u001b[39m.\u001b[39mshape[\u001b[39m0\u001b[39m], nF \u001b[39m*\u001b[39m nI))\n\u001b[1;32m     58\u001b[0m model\u001b[39m.\u001b[39minc_grad(\u001b[39m\"\u001b[39m\u001b[39mb\u001b[39m\u001b[39m\"\u001b[39m, dY\u001b[39m.\u001b[39msum(axis\u001b[39m=\u001b[39m\u001b[39m0\u001b[39m))\n\u001b[1;32m     59\u001b[0m dY \u001b[39m=\u001b[39m dY\u001b[39m.\u001b[39mreshape((dY\u001b[39m.\u001b[39mshape[\u001b[39m0\u001b[39m], nO \u001b[39m*\u001b[39m nP))\n",
      "\u001b[0;31mKeyboardInterrupt\u001b[0m: "
     ]
    }
   ],
   "source": [
    "from spacy.training.example import Example\n",
    "import random\n",
    "\n",
    "sample_txt = \"Albert Einstein was born on March 14, 1879, in Ulm, in the Kingdom of Württemberg in the German Empire. He made significant contributions to the field of theoretical physics, especially in the development of the theory of relativity. Einstein received the Nobel Prize in Physics in 1921 for his explanation of the photoelectric effect. He later moved to the United States, where he continued his scientific work and became a prominent figure in academia.\"\n",
    "\n",
    "nlp = spacy.blank(\"en\")\n",
    "ner = nlp.add_pipe(\"ner\")\n",
    "\n",
    "collected_training_data = []\n",
    "for text, entity_map_item in spacy_formatted_data:\n",
    "    converted_data = Example.from_dict(nlp.make_doc(text), entity_map_item)\n",
    "    collected_training_data.append(converted_data)\n",
    "\n",
    "nlp.begin_training()\n",
    "for i in range(100):\n",
    "    random.shuffle(collected_training_data)\n",
    "    for data in collected_training_data:\n",
    "        nlp.update([data], drop=0.5)\n",
    "\n",
    "nlp.to_disk(\"custom_ner_model\")\n",
    "\n",
    "# Step 4: Test the Model\n",
    "custom_ner_modl = spacy.load(\"custom_ner_model\")\n",
    "doc = custom_ner_modl(sample_txt)\n",
    "\n",
    "# Render the visualization with custom colors\n",
    "displacy.render(doc, style='ent')"
   ]
  }
 ],
 "metadata": {
  "kernelspec": {
   "display_name": "base",
   "language": "python",
   "name": "python3"
  },
  "language_info": {
   "codemirror_mode": {
    "name": "ipython",
    "version": 3
   },
   "file_extension": ".py",
   "mimetype": "text/x-python",
   "name": "python",
   "nbconvert_exporter": "python",
   "pygments_lexer": "ipython3",
   "version": "3.11.5"
  }
 },
 "nbformat": 4,
 "nbformat_minor": 2
}
