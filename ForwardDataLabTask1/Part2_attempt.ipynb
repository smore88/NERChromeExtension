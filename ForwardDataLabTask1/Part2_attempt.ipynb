{
 "cells": [
  {
   "cell_type": "code",
   "execution_count": null,
   "metadata": {},
   "outputs": [],
   "source": [
    "'''\n",
    "Implementation of the Paper Logic\n",
    "    1. Data Collection and Tagging\n",
    "        - collect all the sentences from the text\n",
    "        - manually tag them and then label the entities in the text (Apple : B-Org)\n",
    "'''"
   ]
  },
  {
   "cell_type": "code",
   "execution_count": 1,
   "metadata": {},
   "outputs": [],
   "source": [
    "import spacy"
   ]
  },
  {
   "cell_type": "code",
   "execution_count": 2,
   "metadata": {},
   "outputs": [],
   "source": [
    "sample_text = \"In the bustling city of Arcadia, John Smith, a renowned scientist, was conducting groundbreaking research at Quantum Dynamics\""
   ]
  },
  {
   "cell_type": "code",
   "execution_count": 6,
   "metadata": {},
   "outputs": [
    {
     "name": "stdout",
     "output_type": "stream",
     "text": [
      "Arcadia, : GPE\n",
      "John Smith, : PERSON\n",
      "Quantum Dynamics, : ORG\n"
     ]
    }
   ],
   "source": [
    "# Load the English language model\n",
    "nlp = spacy.load(\"en_core_web_sm\")\n",
    "\n",
    "# Process the paragraph with spaCy\n",
    "doc = nlp(sample_text)\n",
    "\n",
    "# Display named entities\n",
    "for ent in doc.ents:\n",
    "    print(f\"{ent.text}, : {ent.label_}\")"
   ]
  }
 ],
 "metadata": {
  "kernelspec": {
   "display_name": "base",
   "language": "python",
   "name": "python3"
  },
  "language_info": {
   "codemirror_mode": {
    "name": "ipython",
    "version": 3
   },
   "file_extension": ".py",
   "mimetype": "text/x-python",
   "name": "python",
   "nbconvert_exporter": "python",
   "pygments_lexer": "ipython3",
   "version": "3.11.5"
  }
 },
 "nbformat": 4,
 "nbformat_minor": 2
}
