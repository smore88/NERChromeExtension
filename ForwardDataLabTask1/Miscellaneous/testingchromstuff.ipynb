{
 "cells": [
  {
   "cell_type": "code",
   "execution_count": 24,
   "metadata": {},
   "outputs": [
    {
     "name": "stdout",
     "output_type": "stream",
     "text": [
      "<span style=\"background-color: yellow;\">Today</span>, most software is a service. Not owned, but rented. Buying it enters you into a perpetual landlord–tenant agreement. Every month you pay for essentially the same thing you had last month. And if you stop paying, the software stops working. Boom, you’re evicted.\n",
      "ou into a p\n"
     ]
    }
   ],
   "source": [
    "text = \"Today, most software is a service. Not owned, but rented. Buying it enters you into a perpetual landlord–tenant agreement. Every month you pay for essentially the same thing you had last month. And if you stop paying, the software stops working. Boom, you’re evicted.\"\n",
    "\n",
    "text_entities = [\n",
    "    {\"text\": \"Today\", \"label\": \"DATE\", \"start\": 0, \"end\": 5},\n",
    "    {\"text\": \"Every month\", \"label\": \"DATE\", \"start\": 123, \"end\": 134},\n",
    "    {\"text\": \"last month\", \"label\": \"DATE\", \"start\": 182, \"end\": 192}\n",
    "]\n",
    "\n",
    "start_index = text_entities[0][\"start\"]\n",
    "end_index = text_entities[0][\"end\"]\n",
    "substring = text_entities[0][\"text\"]\n",
    "extracted_substring = text[start_index:end_index]\n",
    "# print(extracted_substring)\n",
    "\n",
    "str_to_add = f'<span style=\"background-color: yellow;\">{substring}</span>'\n",
    "# Replace the substring in the original text\n",
    "modified_text = text[:start_index] + str_to_add + text[end_index:]\n",
    "print(modified_text)\n",
    "\n",
    "\n",
    "start_index = text_entities[1][\"start\"]\n",
    "end_index = text_entities[1][\"end\"]\n",
    "substring = text_entities[1][\"text\"]\n",
    "extracted_substring = modified_text[start_index:end_index]\n",
    "print(extracted_substring)\n",
    "\n",
    "\n",
    "# for entity in text_entities:\n",
    "#     start_index = entity[\"start\"]\n",
    "#     end_index = entity[\"end\"]\n",
    "#     substring = entity[\"text\"]\n",
    "\n",
    "#     # Extract the substring using the start and end indices\n",
    "#     extracted_substring = text[start_index:end_index]\n",
    "\n",
    "#     print(f\"{extracted_substring}\")"
   ]
  },
  {
   "cell_type": "code",
   "execution_count": 36,
   "metadata": {},
   "outputs": [
    {
     "name": "stdout",
     "output_type": "stream",
     "text": [
      "267\n",
      "Today\n",
      ", most software is a service. Not owned, but rented. Buying it enters you into a perpetual landlord–tenant agreement. \n",
      "Every month\n",
      " you pay for essentially the same thing you had \n",
      "last month\n",
      ". And if you stop paying, the software stops working. Boom, you’re evicted.\n",
      "[{'firstChar': 0, 'lastChar': 5, 'highlighted': True}, {'firstChar': 5, 'lastChar': 123, 'highlighted': False}, {'firstChar': 123, 'lastChar': 134, 'highlighted': True}, {'firstChar': 134, 'lastChar': 182, 'highlighted': False}, {'firstChar': 182, 'lastChar': 192, 'highlighted': True}, {'firstChar': 192, 'lastChar': 267, 'highlighted': False}]\n"
     ]
    }
   ],
   "source": [
    "text = \"Today, most software is a service. Not owned, but rented. Buying it enters you into a perpetual landlord–tenant agreement. Every month you pay for essentially the same thing you had last month. And if you stop paying, the software stops working. Boom, you’re evicted.\"\n",
    "\n",
    "textLen = len(text)\n",
    "print(textLen)\n",
    "\n",
    "text_entities = [\n",
    "    {\"text\": \"Today\", \"label\": \"DATE\", \"start\": 0, \"end\": 5},\n",
    "    {\"text\": \"Every month\", \"label\": \"DATE\", \"start\": 123, \"end\": 134},\n",
    "    {\"text\": \"last month\", \"label\": \"DATE\", \"start\": 182, \"end\": 192}\n",
    "]\n",
    "\n",
    "start_index = text_entities[0][\"start\"]\n",
    "end_index = text_entities[0][\"end\"]\n",
    "substring = text_entities[0][\"text\"]\n",
    "print(text[start_index:end_index])\n",
    "\n",
    "print(text[5:123])\n",
    "\n",
    "start_index = text_entities[1][\"start\"]\n",
    "end_index = text_entities[1][\"end\"]\n",
    "substring = text_entities[1][\"text\"]\n",
    "print(text[start_index:end_index])\n",
    "\n",
    "print(text[134:182])\n",
    "\n",
    "start_index = text_entities[2][\"start\"]\n",
    "end_index = text_entities[2][\"end\"]\n",
    "substring = text_entities[2][\"text\"]\n",
    "print(text[start_index:end_index])\n",
    "\n",
    "print(text[192:textLen])\n",
    "\n",
    "def find_all_segments(entities, text_len):\n",
    "    segments = []\n",
    "    current_position = 0\n",
    "\n",
    "    for entity in entities:\n",
    "        start = entity['start']\n",
    "        end = entity['end']\n",
    "\n",
    "        if start > current_position:\n",
    "            segments.append({\n",
    "                'firstChar': current_position,\n",
    "                'lastChar': start,\n",
    "                'highlighted': False\n",
    "            })\n",
    "\n",
    "        segments.append({\n",
    "            'firstChar': start,\n",
    "            'lastChar': end,\n",
    "            'highlighted': True\n",
    "        })\n",
    "\n",
    "        current_position = end\n",
    "\n",
    "    if current_position < text_len:\n",
    "        segments.append({\n",
    "            'firstChar': current_position,\n",
    "            'lastChar': text_len,\n",
    "            'highlighted': False\n",
    "        })\n",
    "\n",
    "    return segments\n",
    "\n",
    "print(find_all_segments(text_entities, textLen))\n",
    "\n"
   ]
  }
 ],
 "metadata": {
  "kernelspec": {
   "display_name": "base",
   "language": "python",
   "name": "python3"
  },
  "language_info": {
   "codemirror_mode": {
    "name": "ipython",
    "version": 3
   },
   "file_extension": ".py",
   "mimetype": "text/x-python",
   "name": "python",
   "nbconvert_exporter": "python",
   "pygments_lexer": "ipython3",
   "version": "3.11.5"
  }
 },
 "nbformat": 4,
 "nbformat_minor": 2
}
